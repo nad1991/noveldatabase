{
 "cells": [
  {
   "attachments": {},
   "cell_type": "markdown",
   "metadata": {},
   "source": [
    "# TODO"
   ]
  },
  {
   "attachments": {},
   "cell_type": "markdown",
   "metadata": {},
   "source": [
    "- [] first\n",
    "- [x] second"
   ]
  },
  {
   "attachments": {},
   "cell_type": "markdown",
   "metadata": {},
   "source": [
    "# Main"
   ]
  },
  {
   "cell_type": "code",
   "execution_count": 3,
   "metadata": {},
   "outputs": [],
   "source": [
    "import scrape\n",
    "import random\n",
    "import codecs\n",
    "import pandas as pd\n",
    "\n",
    "from requests import get\n",
    "from urllib.parse import urlparse\n",
    "from bs4 import BeautifulSoup\n",
    "from os import path, mkdir\n"
   ]
  },
  {
   "cell_type": "code",
   "execution_count": 2,
   "metadata": {},
   "outputs": [],
   "source": [
    "def nu_idx(idx: str) -> list:\n",
    "    \"\"\"\n",
    "    Pull all chapters from 'idx' series\n",
    "    available on novelupdates.com and\n",
    "    store them in a list of key-values\n",
    "    \"\"\"\n",
    "\n",
    "    # Validate if idx is an url to novelupdates.com\n",
    "    if urlparse(idx).netloc != 'www.novelupdates.com':\n",
    "        raise Exception('Wrong input, use novelupdates.com series url.')\n",
    "\n",
    "    base_url = get(idx + '?pg=1#myTable', headers=scrape.URL_HEADERS)\n",
    "\n",
    "    chapters = []\n",
    "    soup = BeautifulSoup(base_url, 'html.parser')\n",
    "\n",
    "    while soup.find(class_='digg_pagination').find(class_='next_page') is not None:\n",
    "        # What happens while there is a next page available\n",
    "        for tag in soup.find(id='myTable').tbody.find_all('tr'):\n",
    "            chapters.append({\n",
    "            'date': tag.td.text.strip('\\n').strip('\\t'),\n",
    "            'group': tag.find_all('a')[0].text,\n",
    "            'groupu': tag.find_all('a')[0].attrs['href'],\n",
    "            'chap': tag.find_all('a')[1].text, \n",
    "            'chapu': 'https:' + tag.find_all('a')[1].attrs['href']\n",
    "            })\n",
    "\n",
    "        # Wait between requests to avoid server overload and banhammer\n",
    "        scrape.wait()\n",
    "        next_url = get(idx + soup.find(class_='digg_pagination').find(class_='next_page').attrs['href'].strip('./'))\n",
    "        # Update 'soup' variable to check all pages and break loop\n",
    "        soup = BeautifulSoup(next_url, 'html.parser')\n",
    "\n",
    "    # What happens when/if no next page is available\n",
    "    for tag in soup.find(id='myTable').tbody.find_all('tr'):\n",
    "        chapters.append({\n",
    "        'date': tag.td.text.strip('\\n').strip('\\t'),\n",
    "        'group': tag.find_all('a')[0].text,\n",
    "        'groupu': tag.find_all('a')[0].attrs['href'],\n",
    "        'chap': tag.find_all('a')[1].text, \n",
    "        'chapu': 'https:' + tag.find_all('a')[1].attrs['href']\n",
    "        })\n",
    "\n",
    "    # scrape.wait()\n",
    "    chapters.reverse()\n",
    "    return chapters\n"
   ]
  },
  {
   "cell_type": "code",
   "execution_count": 4,
   "metadata": {},
   "outputs": [],
   "source": [
    "test_url = get('https://www.novelupdates.com/series/tensei-shitara-slime-datta-ken/?pg=29#myTable', headers=scrape.URL_HEADERS)\n",
    "test = BeautifulSoup(test_url.content, 'html.parser')\n",
    "\n",
    "chapters = []\n",
    "for tag in test.find(id='myTable').tbody.find_all('tr'):\n",
    "    chapters.append({\n",
    "    'date': tag.td.text.strip('\\n').strip('\\t'),\n",
    "    'group': tag.find_all('a')[0].text, # Group name\n",
    "    'groupu': tag.find_all('a')[0].attrs['href'], # Group web url\n",
    "    'chap': tag.find_all('a')[1].text, # Chapter name/number\n",
    "    'chapu': 'https:' + tag.find_all('a')[1].attrs['href'] #Chapter url\n",
    "    })"
   ]
  },
  {
   "cell_type": "code",
   "execution_count": null,
   "metadata": {},
   "outputs": [],
   "source": [
    "for t in test.find(id='myTable').tbody.find_all('tr'):\n",
    "    print(t.find_all('a')[1].attrs['title']) # Chapter name (alternate)"
   ]
  },
  {
   "cell_type": "code",
   "execution_count": 7,
   "metadata": {},
   "outputs": [
    {
     "data": {
      "text/plain": [
       "[{'date': '07/02/15',\n",
       "  'group': 'Guro Translation',\n",
       "  'groupu': 'https://www.novelupdates.com/group/guro-translation/',\n",
       "  'chap': 'c21',\n",
       "  'chapu': 'https://www.novelupdates.com/extnu/2533/'},\n",
       " {'date': '06/29/15',\n",
       "  'group': 'Guro Translation',\n",
       "  'groupu': 'https://www.novelupdates.com/group/guro-translation/',\n",
       "  'chap': 'c20',\n",
       "  'chapu': 'https://www.novelupdates.com/extnu/2131/'}]"
      ]
     },
     "execution_count": 7,
     "metadata": {},
     "output_type": "execute_result"
    }
   ],
   "source": [
    "chapters[:2]"
   ]
  },
  {
   "attachments": {},
   "cell_type": "markdown",
   "metadata": {},
   "source": [
    "## Fixing titles"
   ]
  },
  {
   "cell_type": "code",
   "execution_count": 10,
   "metadata": {},
   "outputs": [
    {
     "data": {
      "text/plain": [
       "31"
      ]
     },
     "execution_count": 10,
     "metadata": {},
     "output_type": "execute_result"
    }
   ],
   "source": [
    "with open('out.html', 'rb') as f:\n",
    "    sopa = BeautifulSoup(f, 'html.parser')\n",
    "\n",
    "# [list(a.attrs.values())[0] for a in sopa.find_all('a') if '/series/' in a.attrs['href']]\n",
    "names = [list(a.attrs.values())[0] for a in sopa.find_all('a') if '/series/' in a['href']]\n",
    "len(names)"
   ]
  },
  {
   "cell_type": "code",
   "execution_count": 3,
   "metadata": {},
   "outputs": [],
   "source": [
    "\n",
    "def fix_names(name: str) -> str:\n",
    "    new_name = name\n",
    "\n",
    "    chars = {\n",
    "    'ã\\x80\\x8e': codecs.decode(b'\\xe3\\x80\\x8e'),\n",
    "    'ã\\x80\\x8f': codecs.decode(b'\\xe3\\x80\\x8f'),\n",
    "    'Å\\x8d': codecs.decode(b'\\xc5\\x8d'),\n",
    "    'Ã\\x98': codecs.decode(b'\\xc3\\x98'),\n",
    "    }\n",
    "\n",
    "    for wrong, right in chars.items():\n",
    "        new_name = new_name.replace(wrong, right)\n",
    "    \n",
    "    with open('log.txt', 'a', encoding='utf-8') as log:\n",
    "        if '\\\\' in r'%r' % new_name:\n",
    "            print(f'Name not fixed: {r\"%r\" % name}')\n",
    "            log.write(f'TODO: {r\"%r\" % name}\\n')\n",
    "        else:\n",
    "            log.write(f'Cleaned: {name}\\n')\n",
    "            \n",
    "\n",
    "    return new_name\n"
   ]
  },
  {
   "cell_type": "code",
   "execution_count": 4,
   "metadata": {},
   "outputs": [
    {
     "data": {
      "text/plain": [
       "[{'Name': '(Um, Sorry) I’ve Been Reincarnated!',\n",
       "  'Url': 'https://www.novelupdates.com/series/um-sorry-ive-been-reincarnated/'},\n",
       " {'Name': '100 Ways to Get the Male God',\n",
       "  'Url': 'https://www.novelupdates.com/series/100-ways-to-get-the-male-god/'},\n",
       " {'Name': '101-banme no Hyaku Monogatari',\n",
       "  'Url': 'https://www.novelupdates.com/series/101-banme-no-hyaku-monogatari/'},\n",
       " {'Name': '11 Ways to Forget Your Ex-Boyfriend',\n",
       "  'Url': 'https://www.novelupdates.com/series/11-ways-to-forget-your-ex-boyfriend/'},\n",
       " {'Name': '11/23', 'Url': 'https://www.novelupdates.com/series/11-23/'}]"
      ]
     },
     "execution_count": 4,
     "metadata": {},
     "output_type": "execute_result"
    }
   ],
   "source": [
    "import json\n",
    "\n",
    "with open('readlist.json', 'r') as f:\n",
    "    response = json.load(f)\n",
    "\n",
    "table = [{'Name': t.attrs['title'], 'Url': t.attrs['href']} for t in BeautifulSoup(response['data'].replace('%','\\\\x')).tbody.find_all('a') if '/series/' in t.attrs['href']]\n",
    "table[:5]\n"
   ]
  },
  {
   "cell_type": "code",
   "execution_count": 11,
   "metadata": {},
   "outputs": [
    {
     "name": "stdout",
     "output_type": "stream",
     "text": [
      "＞\n"
     ]
    }
   ],
   "source": [
    "# 'https://www.novelupdates.com/series/an-alternate-worlds-strongest-canceller-/xef/xbd/x9e-using-the-rare-cancel-skill-to-become-godlike/xef/xbd/x9e/'\n",
    "# print(codecs.decode(b'\\xef'))\n",
    "print(codecs.decode(b'\\xef\\xbc\\x9e'))\n",
    "# print(codecs.decode(b'\\xc3\\xaf\\xc2\\xbc\\x9e'))"
   ]
  },
  {
   "cell_type": "code",
   "execution_count": 136,
   "metadata": {},
   "outputs": [
    {
     "data": {
      "text/plain": [
       "b'\\\\'"
      ]
     },
     "execution_count": 136,
     "metadata": {},
     "output_type": "execute_result"
    }
   ],
   "source": [
    "bytes('\\\\'.encode('utf8'))"
   ]
  },
  {
   "cell_type": "code",
   "execution_count": 9,
   "metadata": {},
   "outputs": [
    {
     "data": {
      "text/plain": [
       "'『'"
      ]
     },
     "execution_count": 9,
     "metadata": {},
     "output_type": "execute_result"
    }
   ],
   "source": [
    "codecs.decode(b'\\xe3\\x80\\x8e')"
   ]
  },
  {
   "cell_type": "code",
   "execution_count": 142,
   "metadata": {},
   "outputs": [
    {
     "name": "stdout",
     "output_type": "stream",
     "text": [
      "b'\\xc3\\xaf\\xc2\\xbf\\xc2\\xa51 Trillion Wife, Buy One Get One Free'\n"
     ]
    }
   ],
   "source": [
    "print(codecs.encode('ï¿¥1 Trillion Wife, Buy One Get One Free'))"
   ]
  },
  {
   "cell_type": "code",
   "execution_count": 141,
   "metadata": {},
   "outputs": [],
   "source": [
    "acceptible = set(chr(i) for i in range(0x0021, 0xFFEF + 1))\n",
    "# acceptible.issubset(set('ï¿¥1 Trillion Wife, Buy One Get One Free'))"
   ]
  },
  {
   "cell_type": "code",
   "execution_count": null,
   "metadata": {},
   "outputs": [
    {
     "data": {
      "text/plain": [
       "[\"'An Alternate World’s STRONGEST Canceller ~\\\\x9e Using The Rare Cancel Skill to Become GODLIKE~\\\\x9e'\",\n",
       " \"'Beastly FÄ\\\\x93i that Go Against the Heaven: Coerced by the HuÃ¡ng ShÅ«'\",\n",
       " \"'Cheat Aru Kedo Mattari Kurashitai ã\\\\x80\\\\x8aTensei Jinsei o Tanoshimou!ã\\\\x80\\\\x8b'\",\n",
       " \"'Dog God of the Fallen -SLASHDÃ\\\\x98G-'\",\n",
       " \"'Hiota no Kanojo ga Ore no Motteru Eroge ni Kyoumi Shinshin Nanda gaâ\\\\x80¦â\\\\x80¦'\",\n",
       " \"'Hon Issatsu de Kototariru Isekai RurÅ\\\\x8d Monogatari'\",\n",
       " \"'I Aim to Be an Adventurer with the Jobclass of â\\\\x80\\\\x9cJoblessâ\\\\x80\\\\x9d'\",\n",
       " \"'I Have Reincarnated intoã\\\\x80\\\\x8cWelcome to the â\\\\x97\\\\x8bâ\\\\x97\\\\x8b Town!ã\\\\x80\\\\x8dTownsperson A, But the Last Dungeon Was Right Around the Corner'\",\n",
       " \"'Is He A Hero? ã\\\\x80\\\\x8cYupã\\\\x80\\\\x8d'\",\n",
       " \"'Kami Sumeragi Yuusha no Eiyuutan ã\\\\x80\\\\x8aRyokou Tanã\\\\x80\\\\x8b'\",\n",
       " \"'Kawaranu Mono ï¼\\\\x9cKirameki no GÅ\\\\x8dremuï¼\\\\x9e'\",\n",
       " \"'Kujibiki Tokushou: Musou HÄ\\\\x81remu ken (WN)'\",\n",
       " \"'Kuzu Inouã\\\\x80\\\\x90Ondo wo Kaeru Monoã\\\\x80\\\\x91 no Ore ga Musou suru made'\",\n",
       " \"'Phoenix Overlooking the World - Who Dares to Touch My AbandonedÂ\\\\xa0Empress'\",\n",
       " \"'Pure Love â\\\\x9c\\\\x95 Insult Complex'\",\n",
       " \"'Reincarnated as a Dragon’s Egg ~\\\\x9eLets Aim to Be the Strongest~\\\\x9e'\",\n",
       " \"'Reworldâ\\\\x80¢Frontier-Saijakuni Shite Saikyou no Shien Jutsu Shiki Tsukai [Enhancer]'\",\n",
       " \"'Seventh Imperial â\\\\x80\\\\x9cBrotherâ\\\\x80\\\\x9d, Obediently Lie Down'\",\n",
       " \"'Sisters Violated Many Times in Dream and Realityâ\\\\x80¦'\",\n",
       " \"'The Principle of a Philosopher by Eternal Fool â\\\\x80\\\\x9cAsleyâ\\\\x80\\\\x9d'\",\n",
       " \"'The Spear User that Couldn’t Become the Hero ã\\\\x80\\\\x8aProtagonistã\\\\x80\\\\x8b'\",\n",
       " \"'World Reformation Activities of the Dark God â\\\\x80\\\\x94 Loving Humans So Much, I Reincarnated in One â\\\\x80\\\\x94'\",\n",
       " \"'ï¼\\\\x9cInfinite Dendrogramï¼\\\\x9e'\"]"
      ]
     },
     "metadata": {},
     "output_type": "display_data"
    }
   ],
   "source": [
    "[r'%r' % name for name in [v['Name'] for v in table] if '\\\\' in r'%r' % name]"
   ]
  },
  {
   "attachments": {},
   "cell_type": "markdown",
   "metadata": {},
   "source": [
    "## Random"
   ]
  },
  {
   "cell_type": "code",
   "execution_count": null,
   "metadata": {},
   "outputs": [],
   "source": [
    "names_fix = [fix_names(name) if '\\\\' in r'%r' % name else name for name in [v['Name'] for v in table]]"
   ]
  },
  {
   "cell_type": "code",
   "execution_count": 36,
   "metadata": {},
   "outputs": [
    {
     "data": {
      "text/plain": [
       "['Yuusha Party no Kawaii Ko ga Ita no de, Kokuhaku Shite Mita (LN)',\n",
       " 'Ze Tian Ji',\n",
       " 'Zero no Tsukaima',\n",
       " 'Zhan Long',\n",
       " 'Zhu Xian',\n",
       " 'Zhui Xu',\n",
       " 'Zither Emperor',\n",
       " 'Zombie Master',\n",
       " 'ï¼\\x9cInfinite Dendrogramï¼\\x9e',\n",
       " 'ï¿¥1 Trillion Wife, Buy One Get One Free']"
      ]
     },
     "execution_count": 36,
     "metadata": {},
     "output_type": "execute_result"
    }
   ],
   "source": [
    "names_fix[-10:]\n"
   ]
  },
  {
   "cell_type": "code",
   "execution_count": 95,
   "metadata": {},
   "outputs": [
    {
     "name": "stdout",
     "output_type": "stream",
     "text": [
      "Shini Yasui KÅshaku ReijÅ to Shichi-nin no KikÅshi\n",
      "Shini Yasui KÅshaku ReijÅ to Shichi-nin no KikÅshi\n"
     ]
    }
   ],
   "source": [
    "print(names_fix[21])\n",
    "print(names[21])"
   ]
  },
  {
   "cell_type": "code",
   "execution_count": 30,
   "metadata": {},
   "outputs": [
    {
     "data": {
      "text/plain": [
       "['Number 0 found 931 times',\n",
       " 'Number 1 found 921 times',\n",
       " 'Number 2 found 930 times',\n",
       " 'Number 3 found 908 times',\n",
       " 'Number 4 found 945 times',\n",
       " 'Number 5 found 912 times',\n",
       " 'Number 6 found 877 times',\n",
       " 'Number 7 found 839 times',\n",
       " 'Number 8 found 925 times',\n",
       " 'Number 9 found 858 times',\n",
       " 'Number 10 found 954 times']"
      ]
     },
     "execution_count": 30,
     "metadata": {},
     "output_type": "execute_result"
    }
   ],
   "source": [
    "test = [random.randint(0,10) for n in range(10000)]\n",
    "[f\"Number {n} found {test.count(n)} times\" for n in range(11)]"
   ]
  },
  {
   "attachments": {},
   "cell_type": "markdown",
   "metadata": {},
   "source": [
    "# Placeholders"
   ]
  },
  {
   "attachments": {},
   "cell_type": "markdown",
   "metadata": {},
   "source": [
    "## Requests"
   ]
  },
  {
   "cell_type": "code",
   "execution_count": 4,
   "metadata": {},
   "outputs": [
    {
     "data": {
      "text/plain": [
       "'Mozilla/4.0 (compatible; MSIE 8.0; Windows NT 5.1; Trident/4.0; .NET CLR 2.0.50727; .NET CLR 3.0.4506.2152; .NET CLR 3.5.30729; .NET CLR 1.1.4322; InfoPath.2; .NET4.0E; .NET4.0C)\\n'"
      ]
     },
     "execution_count": 4,
     "metadata": {},
     "output_type": "execute_result"
    }
   ],
   "source": [
    "agents = {'good': [], 'bad': []}\n",
    "\n",
    "def fetch_user(bad = ''):\n",
    "    import random\n",
    "\n",
    "    if len(agents['good']) == 0:\n",
    "        with open('user-agent.txt', 'r', encoding='utf8') as f:\n",
    "            agents['good'] = [l for l in f]\n",
    "\n",
    "    random.seed()\n",
    "    random.choice(agents['good'])"
   ]
  },
  {
   "cell_type": "code",
   "execution_count": 21,
   "metadata": {},
   "outputs": [],
   "source": [
    "\n",
    "\n",
    "# url = 'https://www.novelupdates.com/extnu/6961550/'\n",
    "\n",
    "url_headers = {\n",
    "    'User-Agent': 'Mozilla/5.0 (compatible; MSIE 10.0; Windows NT 6.1; Trident/6.0) LinkCheck by Siteimprove.com'\n",
    "}\n",
    "\n",
    "# g = requests.get(url, headers=url_headers, allow_redirects=True)\n",
    "# g = requests.get(url, headers=url_headers)"
   ]
  },
  {
   "cell_type": "code",
   "execution_count": 38,
   "metadata": {},
   "outputs": [
    {
     "data": {
      "text/plain": [
       "[<Response [302]>]"
      ]
     },
     "execution_count": 38,
     "metadata": {},
     "output_type": "execute_result"
    }
   ],
   "source": [
    "# g.history"
   ]
  },
  {
   "attachments": {},
   "cell_type": "markdown",
   "metadata": {},
   "source": [
    "## SQL"
   ]
  },
  {
   "cell_type": "code",
   "execution_count": 3,
   "metadata": {},
   "outputs": [],
   "source": [
    "import sqlite3"
   ]
  },
  {
   "cell_type": "code",
   "execution_count": 5,
   "metadata": {},
   "outputs": [
    {
     "name": "stdout",
     "output_type": "stream",
     "text": [
      "('Death March kara Hajimaru Isekai Kyousoukyoku', 'https://www.sousetsuka.com/p/blog-page_15.html', 'Ongoing', None, None)\n"
     ]
    }
   ],
   "source": [
    "novel_list = []\n",
    "\n",
    "con = sqlite3.connect('novels.db')\n",
    "\n",
    "cur = con.cursor()\n",
    "\n",
    "for row in cur.execute('SELECT * FROM novels'):\n",
    "    print(row)\n",
    "    novel_list.append(row)\n",
    "\n",
    "# con.commit()"
   ]
  },
  {
   "cell_type": "code",
   "execution_count": 8,
   "metadata": {},
   "outputs": [
    {
     "data": {
      "text/plain": [
       "tuple"
      ]
     },
     "execution_count": 8,
     "metadata": {},
     "output_type": "execute_result"
    }
   ],
   "source": [
    "type(novel_list[0])"
   ]
  },
  {
   "attachments": {},
   "cell_type": "markdown",
   "metadata": {},
   "source": [
    "## DataFrame"
   ]
  },
  {
   "cell_type": "code",
   "execution_count": 5,
   "metadata": {},
   "outputs": [],
   "source": [
    "import pandas as pd\n",
    "\n",
    "\n",
    "desumachi_db = pd.DataFrame()\n",
    "\n",
    "desumachi_db"
   ]
  }
 ],
 "metadata": {
  "kernelspec": {
   "display_name": "Python 3",
   "language": "python",
   "name": "python3"
  },
  "language_info": {
   "codemirror_mode": {
    "name": "ipython",
    "version": 3
   },
   "file_extension": ".py",
   "mimetype": "text/x-python",
   "name": "python",
   "nbconvert_exporter": "python",
   "pygments_lexer": "ipython3",
   "version": "3.10.5"
  },
  "orig_nbformat": 4,
  "vscode": {
   "interpreter": {
    "hash": "8a5edab282632443219e051e4ade2d1d5bbc671c781051bf1437897cbdfea0f1"
   }
  }
 },
 "nbformat": 4,
 "nbformat_minor": 2
}
